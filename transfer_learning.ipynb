{
  "nbformat": 4,
  "nbformat_minor": 0,
  "metadata": {
    "colab": {
      "name": "VGG16.ipynb",
      "provenance": []
    },
    "kernelspec": {
      "name": "python3",
      "display_name": "Python 3"
    },
    "language_info": {
      "name": "python"
    }
  },
  "cells": [
    {
      "cell_type": "code",
      "metadata": {
        "id": "uymJJLzjEb-M"
      },
      "source": [
        "from tensorflow.keras.datasets import cifar10\n",
        "from tensorflow.keras.applications.vgg16 import preprocess_input\n",
        "from tensorflow.keras.applications import VGG16\n",
        "import tensorflow.keras as tf"
      ],
      "execution_count": 34,
      "outputs": []
    },
    {
      "cell_type": "code",
      "metadata": {
        "colab": {
          "base_uri": "https://localhost:8080/"
        },
        "id": "-VZ4DIqKFAL2",
        "outputId": "f9d650cc-aa94-4801-cdbe-5f777e5ac808"
      },
      "source": [
        "cifar10"
      ],
      "execution_count": 3,
      "outputs": [
        {
          "output_type": "execute_result",
          "data": {
            "text/plain": [
              "<module 'tensorflow.keras.datasets.cifar10' from '/usr/local/lib/python3.7/dist-packages/tensorflow/keras/datasets/cifar10/__init__.py'>"
            ]
          },
          "metadata": {
            "tags": []
          },
          "execution_count": 3
        }
      ]
    },
    {
      "cell_type": "code",
      "metadata": {
        "id": "EwfPzrq2FXO8"
      },
      "source": [
        "#load the data\n",
        "(x_train, y_train), (x_test, y_test) = cifar10.load_data()"
      ],
      "execution_count": 38,
      "outputs": []
    },
    {
      "cell_type": "code",
      "metadata": {
        "id": "aqZiHr9VL4ld"
      },
      "source": [
        "#creating a function to preprocess the data\n",
        "def preprocess_data(X, Y):\n",
        "        X = X.astype('float32')\n",
        "        processed_x = preprocess_input(X)\n",
        "        processed_y = tf.utils.to_categorical(Y, 10)\n",
        "        return (processed_x, processed_y)"
      ],
      "execution_count": 35,
      "outputs": []
    },
    {
      "cell_type": "code",
      "metadata": {
        "id": "mX4piHbfGFaR"
      },
      "source": [
        "x_train, y_train = preprocess_data(x_train, y_train)\n",
        "x_test, y_test =  preprocess_data(x_test,y_test)"
      ],
      "execution_count": 39,
      "outputs": []
    },
    {
      "cell_type": "code",
      "metadata": {
        "colab": {
          "base_uri": "https://localhost:8080/"
        },
        "id": "kMZdXYajGKN4",
        "outputId": "402f1f0e-34e8-40db-d44f-4aa5daac74eb"
      },
      "source": [
        "x_train[0].shape"
      ],
      "execution_count": 11,
      "outputs": [
        {
          "output_type": "execute_result",
          "data": {
            "text/plain": [
              "(32, 32, 3)"
            ]
          },
          "metadata": {
            "tags": []
          },
          "execution_count": 11
        }
      ]
    },
    {
      "cell_type": "code",
      "metadata": {
        "id": "EyJpSYoDGXTW"
      },
      "source": [
        "base_model = VGG16(\n",
        "    include_top=False,\n",
        "    weights=\"imagenet\",\n",
        "    input_tensor=None,\n",
        "    input_shape=(64,64,3),\n",
        "    pooling='avg',\n",
        "    classes=10,\n",
        "    classifier_activation=\"softmax\",\n",
        ")"
      ],
      "execution_count": 44,
      "outputs": []
    },
    {
      "cell_type": "code",
      "metadata": {
        "id": "RgsyO6hEJbXY"
      },
      "source": [
        "#creating the model\n",
        "model = tf.Sequential()\n",
        "model.add(tf.layers.UpSampling2D())\n",
        "model.add(base_model)\n",
        "model.add(tf.layers.Flatten())\n",
        "model.add(tf.layers.Dense(512, activation=('relu'))) \n",
        "model.add(tf.layers.Dropout(0.2))\n",
        "model.add(tf.layers.Dense(256, activation=('relu')))\n",
        "model.add(tf.layers.Dropout(0.2))\n",
        "model.add(tf.layers.Dense(10, activation=('softmax')))\n",
        "model.compile(optimizer='adam', loss='categorical_crossentropy',metrics=['accuracy'])"
      ],
      "execution_count": 45,
      "outputs": []
    },
    {
      "cell_type": "code",
      "metadata": {
        "colab": {
          "base_uri": "https://localhost:8080/"
        },
        "id": "1y0NNWMAOEgA",
        "outputId": "dac7e31d-6ac1-49d0-df3b-7d23e60d35e2"
      },
      "source": [
        "model.fit(x=x_train, y=y_train,epochs=10, verbose=1)"
      ],
      "execution_count": null,
      "outputs": [
        {
          "output_type": "stream",
          "text": [
            "Epoch 1/10\n",
            "1563/1563 [==============================] - 8730s 6s/step - loss: 2.3512 - accuracy: 0.1008\n",
            "Epoch 2/10\n",
            "1148/1563 [=====================>........] - ETA: 38:24 - loss: 2.3029 - accuracy: 0.0981"
          ],
          "name": "stdout"
        }
      ]
    },
    {
      "cell_type": "code",
      "metadata": {
        "id": "j8eAOaz5KJ8f"
      },
      "source": [
        "#testing accuracy\n",
        " loss, accuracy = model.evaluate(x_test, y_test)\n",
        " print(accuracy)"
      ],
      "execution_count": null,
      "outputs": []
    },
    {
      "cell_type": "code",
      "metadata": {
        "id": "nVPPUY0iJ-_z"
      },
      "source": [
        ""
      ],
      "execution_count": null,
      "outputs": []
    },
    {
      "cell_type": "code",
      "metadata": {
        "id": "JmxIHxLIQrNT"
      },
      "source": [
        ""
      ],
      "execution_count": null,
      "outputs": []
    }
  ]
}